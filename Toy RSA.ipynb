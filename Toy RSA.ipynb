{
 "cells": [
  {
   "cell_type": "markdown",
   "metadata": {},
   "source": [
    "# Toy RSA encryption\n",
    "\n",
    "note that RSA isn't very useful (or secure) without, for example, some message chunking / padding."
   ]
  },
  {
   "cell_type": "code",
   "execution_count": 1,
   "metadata": {
    "collapsed": true
   },
   "outputs": [],
   "source": [
    "from collections import namedtuple\n",
    "\n",
    "BaseKey = namedtuple('Key', ('n', 'e', 'd'))\n",
    "\n",
    "class Key(BaseKey):\n",
    "\n",
    "    def __new__(cls, n, e, d=None):\n",
    "        return super(Key, cls).__new__(cls, n, e, d)\n",
    "    \n",
    "    @classmethod\n",
    "    def from_primes(cls, p, q):\n",
    "        ...\n",
    "    \n",
    "    def encrypt(self, msg):\n",
    "        return pow(msg, self.e, self.n)\n",
    "\n",
    "    def decrypt(self, ciph):\n",
    "        return pow(ciph, self.d, self.n)\n",
    "    \n",
    "    @property\n",
    "    def public_key(self):\n",
    "        return type(self)(self.n, self.e)"
   ]
  },
  {
   "cell_type": "code",
   "execution_count": 2,
   "metadata": {},
   "outputs": [],
   "source": [
    "privkey = Key(n=61*53, e=17, d=413)\n",
    "pubkey = privkey.public_key"
   ]
  },
  {
   "cell_type": "code",
   "execution_count": 3,
   "metadata": {},
   "outputs": [
    {
     "data": {
      "text/plain": [
       "2183"
      ]
     },
     "execution_count": 3,
     "metadata": {},
     "output_type": "execute_result"
    }
   ],
   "source": [
    "pubkey.encrypt(1234)"
   ]
  },
  {
   "cell_type": "code",
   "execution_count": 4,
   "metadata": {},
   "outputs": [
    {
     "data": {
      "text/plain": [
       "1234"
      ]
     },
     "execution_count": 4,
     "metadata": {},
     "output_type": "execute_result"
    }
   ],
   "source": [
    "privkey.decrypt(2183)"
   ]
  },
  {
   "cell_type": "code",
   "execution_count": 5,
   "metadata": {},
   "outputs": [],
   "source": [
    "priv256b = Key(0xbf12d8819d36e5a6a1964a9dff3ace76eee4fb07558452f9ea6d7197eee9586f,\n",
    "               65537,\n",
    "               0x692a4f3defb0f26f674a9821240452f4118ccd95e488cbebc4ada40a088ec5f1)\n",
    "pub256b = priv256b.public_key"
   ]
  },
  {
   "cell_type": "code",
   "execution_count": 6,
   "metadata": {},
   "outputs": [
    {
     "data": {
      "text/plain": [
       "36589810154264848603703722010488456631515941390378346647631149855500723664563"
      ]
     },
     "execution_count": 6,
     "metadata": {},
     "output_type": "execute_result"
    }
   ],
   "source": [
    "ciphertext = pub256b.encrypt(333444555)\n",
    "ciphertext"
   ]
  },
  {
   "cell_type": "code",
   "execution_count": 7,
   "metadata": {},
   "outputs": [
    {
     "data": {
      "text/plain": [
       "333444555"
      ]
     },
     "execution_count": 7,
     "metadata": {},
     "output_type": "execute_result"
    }
   ],
   "source": [
    "priv256b.decrypt(ciphertext)"
   ]
  }
 ],
 "metadata": {
  "kernelspec": {
   "display_name": "Python 3",
   "language": "python",
   "name": "python3"
  },
  "language_info": {
   "codemirror_mode": {
    "name": "ipython",
    "version": 3
   },
   "file_extension": ".py",
   "mimetype": "text/x-python",
   "name": "python",
   "nbconvert_exporter": "python",
   "pygments_lexer": "ipython3",
   "version": "3.5.2"
  }
 },
 "nbformat": 4,
 "nbformat_minor": 2
}
